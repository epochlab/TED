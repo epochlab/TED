{
 "cells": [
  {
   "cell_type": "markdown",
   "metadata": {},
   "source": [
    "\n",
    "### Activations & Batch Normalisation\n",
    "\n",
    "---"
   ]
  },
  {
   "cell_type": "code",
   "execution_count": 1,
   "metadata": {},
   "outputs": [],
   "source": [
    "import torch\n",
    "import torch.nn.functional as F\n",
    "import random\n",
    "import matplotlib.pyplot as plt\n",
    "%matplotlib inline"
   ]
  },
  {
   "cell_type": "code",
   "execution_count": 2,
   "metadata": {},
   "outputs": [],
   "source": [
    "random.seed(42)"
   ]
  },
  {
   "cell_type": "code",
   "execution_count": 3,
   "metadata": {},
   "outputs": [
    {
     "data": {
      "text/plain": [
       "['emma', 'olivia', 'ava', 'isabella', 'sophia', 'charlotte', 'mia', 'amelia']"
      ]
     },
     "execution_count": 3,
     "metadata": {},
     "output_type": "execute_result"
    }
   ],
   "source": [
    "words = open('names.txt', 'r').read().splitlines()\n",
    "words[:8]"
   ]
  },
  {
   "cell_type": "code",
   "execution_count": 4,
   "metadata": {},
   "outputs": [
    {
     "data": {
      "text/plain": [
       "32033"
      ]
     },
     "execution_count": 4,
     "metadata": {},
     "output_type": "execute_result"
    }
   ],
   "source": [
    "len(words)"
   ]
  },
  {
   "cell_type": "code",
   "execution_count": 5,
   "metadata": {},
   "outputs": [
    {
     "name": "stdout",
     "output_type": "stream",
     "text": [
      "{1: 'a', 2: 'b', 3: 'c', 4: 'd', 5: 'e', 6: 'f', 7: 'g', 8: 'h', 9: 'i', 10: 'j', 11: 'k', 12: 'l', 13: 'm', 14: 'n', 15: 'o', 16: 'p', 17: 'q', 18: 'r', 19: 's', 20: 't', 21: 'u', 22: 'v', 23: 'w', 24: 'x', 25: 'y', 26: 'z', 0: '.'}\n",
      "27\n"
     ]
    }
   ],
   "source": [
    "# Build the vocabulary of characters and mapping to/from integers\n",
    "chars = sorted(list(set(''.join(words))))\n",
    "stoi = {s:i+1 for i, s in enumerate(chars)}\n",
    "stoi['.'] = 0\n",
    "itos = {i:s for s, i in stoi.items()}\n",
    "vocab_size = len(itos)\n",
    "print(itos)\n",
    "print(vocab_size)"
   ]
  },
  {
   "cell_type": "code",
   "execution_count": 6,
   "metadata": {},
   "outputs": [],
   "source": [
    "block_size = 3  # Context length: How many characters do we take to predict the next one."
   ]
  },
  {
   "cell_type": "code",
   "execution_count": 7,
   "metadata": {},
   "outputs": [],
   "source": [
    "def build_dataset(words):\n",
    "    X, Y = [], []\n",
    "\n",
    "    for w in words:\n",
    "        context = [0] * block_size\n",
    "        for ch in w + '.':\n",
    "            ix = stoi[ch]\n",
    "            X.append(context)\n",
    "            Y.append(ix)\n",
    "            context = context[1:] + [ix]  # Crop and append\n",
    "\n",
    "    X = torch.tensor(X)\n",
    "    Y = torch.tensor(Y)\n",
    "    print(X.shape, Y.shape)\n",
    "    return X, Y"
   ]
  },
  {
   "cell_type": "code",
   "execution_count": 8,
   "metadata": {},
   "outputs": [
    {
     "name": "stdout",
     "output_type": "stream",
     "text": [
      "torch.Size([182625, 3]) torch.Size([182625])\n",
      "torch.Size([22655, 3]) torch.Size([22655])\n",
      "torch.Size([22866, 3]) torch.Size([22866])\n"
     ]
    }
   ],
   "source": [
    "random.shuffle(words)\n",
    "\n",
    "n1 = int(0.8 * len(words))\n",
    "n2 = int(0.9 * len(words))\n",
    "\n",
    "Xtr, Ytr = build_dataset(words[:n1])\n",
    "Xdev, Ydev = build_dataset(words[n1:n2])\n",
    "Xte, Yte = build_dataset(words[n2:])"
   ]
  },
  {
   "cell_type": "code",
   "execution_count": 9,
   "metadata": {},
   "outputs": [
    {
     "data": {
      "text/plain": [
       "(tensor([5.6939, 3.3851, 1.9089, 8.2997]),\n",
       " tensor([0.0682, 0.0068, 0.0015, 0.9235]),\n",
       " tensor(6.4704))"
      ]
     },
     "execution_count": 9,
     "metadata": {},
     "output_type": "execute_result"
    }
   ],
   "source": [
    "# 4-dimensional exammple of initialization problem\n",
    "# logits = torch.tensor([0.0, 0.0, 0.0, 0.0]) # Even distribution\n",
    "# logits = torch.tensor([0.0, 0.0, 2.0, 0.0]) # Correct value\n",
    "# logits = torch.tensor([0.0, 8.0, 0.0, 0.0]) # Incorrect value\n",
    "logits = torch.rand(4) * 10 # Random distribution for each dimension\n",
    "probs = torch.softmax(logits, dim=0)\n",
    "loss = -probs[2].log()\n",
    "logits, probs, loss"
   ]
  },
  {
   "cell_type": "code",
   "execution_count": 10,
   "metadata": {},
   "outputs": [
    {
     "data": {
      "text/plain": [
       "tensor(3.2958)"
      ]
     },
     "execution_count": 10,
     "metadata": {},
     "output_type": "execute_result"
    }
   ],
   "source": [
    "# Estimate the initial loss value - Negative log of the probability distribution\n",
    "-torch.tensor(1/vocab_size).log()"
   ]
  },
  {
   "cell_type": "code",
   "execution_count": 11,
   "metadata": {},
   "outputs": [],
   "source": [
    "# Init scale for weights and biases of hidden layer. (Kaiming Normal)\n",
    "x = torch.randn(1000, 30) # 1000 examples in a 30 dimensional matrix - 30 due to each letter is 10 dimensions but we take 3 and concaternate.\n",
    "w = torch.randn(30, 200) * (5/3) / 30**0.5 # Initialized using gaussian similar to input - Normalized by the square root of fan_in (Number of input units). 5/3 = Tanh Gain\n",
    "y = x @ w # Pre-activations of neurons"
   ]
  },
  {
   "cell_type": "code",
   "execution_count": 12,
   "metadata": {},
   "outputs": [
    {
     "name": "stdout",
     "output_type": "stream",
     "text": [
      "tensor(-0.0055) tensor(0.3058)\n",
      "tensor(3.4811e-06) tensor(1.6889)\n"
     ]
    },
    {
     "data": {
      "text/plain": [
       "(array([1.47554303e-05, 1.47554303e-05, 2.95108605e-05, 7.37771513e-05,\n",
       "        1.18043442e-04, 3.24619466e-04, 4.42662908e-04, 7.37771513e-04,\n",
       "        1.32798872e-03, 2.08051567e-03, 3.54130326e-03, 5.65132979e-03,\n",
       "        9.13361133e-03, 1.42685011e-02, 2.22364334e-02, 3.16356425e-02,\n",
       "        4.50778394e-02, 6.36991924e-02, 8.76325003e-02, 1.12288824e-01,\n",
       "        1.44145798e-01, 1.75560109e-01, 2.02783878e-01, 2.22231535e-01,\n",
       "        2.40380714e-01, 2.41251285e-01, 2.36986965e-01, 2.22010204e-01,\n",
       "        1.95155321e-01, 1.66175655e-01, 1.36369686e-01, 1.06637494e-01,\n",
       "        7.97531005e-02, 5.96266936e-02, 4.02233029e-02, 2.84484695e-02,\n",
       "        1.95804559e-02, 1.27339363e-02, 7.90891062e-03, 4.95782456e-03,\n",
       "        3.37899353e-03, 1.87393964e-03, 1.00336926e-03, 6.78749792e-04,\n",
       "        4.57418338e-04, 1.77065163e-04, 1.47554303e-04, 2.95108605e-05,\n",
       "        2.95108605e-05, 5.90217210e-05]),\n",
       " array([-8.5963335 , -8.2574752 , -7.91861691, -7.57975861, -7.24090031,\n",
       "        -6.90204201, -6.56318371, -6.22432541, -5.88546711, -5.54660881,\n",
       "        -5.20775051, -4.86889221, -4.53003391, -4.19117561, -3.85231731,\n",
       "        -3.51345901, -3.17460072, -2.83574242, -2.49688412, -2.15802582,\n",
       "        -1.81916752, -1.48030922, -1.14145092, -0.80259262, -0.46373432,\n",
       "        -0.12487602,  0.21398228,  0.55284058,  0.89169888,  1.23055717,\n",
       "         1.56941547,  1.90827377,  2.24713207,  2.58599037,  2.92484867,\n",
       "         3.26370697,  3.60256527,  3.94142357,  4.28028187,  4.61914017,\n",
       "         4.95799847,  5.29685677,  5.63571507,  5.97457336,  6.31343166,\n",
       "         6.65228996,  6.99114826,  7.33000656,  7.66886486,  8.00772316,\n",
       "         8.34658146]),\n",
       " <BarContainer object of 50 artists>)"
      ]
     },
     "execution_count": 12,
     "metadata": {},
     "output_type": "execute_result"
    },
    {
     "data": {
      "image/png": "[encoded data removed]",
      "text/plain": [
       "<Figure size 2000x500 with 2 Axes>"
      ]
     },
     "metadata": {},
     "output_type": "display_data"
    }
   ],
   "source": [
    "print(x.mean(), w.std())\n",
    "print(y.mean(), y.std())\n",
    "plt.figure(figsize=(20, 5))\n",
    "plt.subplot(121)\n",
    "plt.hist(x.view(-1).tolist(), 50, density=True)\n",
    "plt.subplot(122)\n",
    "plt.hist(y.view(-1).tolist(), 50, density=True)"
   ]
  },
  {
   "cell_type": "code",
   "execution_count": 13,
   "metadata": {},
   "outputs": [
    {
     "data": {
      "text/plain": [
       "0.3042903097250923"
      ]
     },
     "execution_count": 13,
     "metadata": {},
     "output_type": "execute_result"
    }
   ],
   "source": [
    "# Kaiming Normal\n",
    "(torch.randn(1000)).std() # Spread of the Gaussion of zero mean unit standard deviation\n",
    "gain = 5 / 3 # Gain required for tanh function\n",
    "gain / (30**0.5)"
   ]
  },
  {
   "cell_type": "code",
   "execution_count": 14,
   "metadata": {},
   "outputs": [
    {
     "name": "stdout",
     "output_type": "stream",
     "text": [
      "12097\n"
     ]
    }
   ],
   "source": [
    "# Initialize model\n",
    "\n",
    "n_embd = 10         # The dimensionality of the character embedding vectors\n",
    "n_hidden = 200      # The number of neurons in the hidden layer of the MLP\n",
    "\n",
    "g = torch.Generator().manual_seed(2147483642)\n",
    "C = torch.randn((vocab_size, n_embd), generator=g)\n",
    "\n",
    "# Model\n",
    "g = torch.Generator().manual_seed(2147483647)\n",
    "C = torch.randn((vocab_size, n_embd),             generator=g)\n",
    "W1 = torch.randn((n_embd * block_size, n_hidden), generator=g) * (5/3) / ((n_embd * block_size)**0.5) # Init scale using Kaiming initialization\n",
    "# b1 = torch.randn(n_hidden,                        generator=g) * 0.01 # Disable when using BatchNorm with bnbias\n",
    "W2 = torch.randn((n_hidden, vocab_size),          generator=g) * 0.01\n",
    "b2 = torch.randn(vocab_size,                      generator=g) * 0\n",
    "\n",
    "bngain = torch.ones((1, n_hidden))\n",
    "bnbias = torch.zeros((1, n_hidden))\n",
    "\n",
    "# As weights are gaussain at initialization mean will be roughly 0 and std will be 1\n",
    "bnmean_running = torch.zeros((1, n_hidden))\n",
    "bnstd_running = torch.ones((1, n_hidden))\n",
    "\n",
    "parameters = [C, W1, W2, b2, bngain, bnbias] # b1, removed for BatchNorm - bnbias\n",
    "print(sum(p.nelement() for p in parameters)) # Total number of parameters\n",
    "\n",
    "for p in parameters:\n",
    "    p.requires_grad = True"
   ]
  },
  {
   "cell_type": "code",
   "execution_count": 15,
   "metadata": {},
   "outputs": [
    {
     "name": "stdout",
     "output_type": "stream",
     "text": [
      "      0 /  200000: 3.323862\n",
      "  10000 /  200000: 2.032164\n",
      "  20000 /  200000: 2.567552\n",
      "  30000 /  200000: 2.012547\n",
      "  40000 /  200000: 2.244635\n",
      "  50000 /  200000: 1.889774\n",
      "  60000 /  200000: 2.078532\n",
      "  70000 /  200000: 2.368121\n",
      "  80000 /  200000: 2.291861\n",
      "  90000 /  200000: 2.023838\n",
      " 100000 /  200000: 2.367269\n",
      " 110000 /  200000: 2.313224\n",
      " 120000 /  200000: 1.641326\n",
      " 130000 /  200000: 1.931055\n",
      " 140000 /  200000: 2.223103\n",
      " 150000 /  200000: 2.002742\n",
      " 160000 /  200000: 2.099662\n",
      " 170000 /  200000: 2.494863\n",
      " 180000 /  200000: 2.019904\n",
      " 190000 /  200000: 2.170781\n"
     ]
    }
   ],
   "source": [
    "epochs = 200000\n",
    "batch_size = 32\n",
    "lossi = []\n",
    "\n",
    "for i in range(epochs):\n",
    "\n",
    "    # Minibatch\n",
    "    ix = torch.randint(0, Xtr.shape[0], (batch_size,), generator=g)\n",
    "    Xb, Yb = Xtr[ix], Ytr[ix] # Batch X, Y\n",
    "\n",
    "    # Forward pass\n",
    "    emb = C[Xb] # Embed the characters into vectors\n",
    "    embcat = emb.view(emb.shape[0], -1) # Concatenate the vectos\n",
    "    hpreact = embcat @ W1 # + b1 # Hidden layer pre-activation - Remove bias as bnbias in BatchNorm overrides this.\n",
    "\n",
    "    # BatchNormalization\n",
    "    epsilon = 1e-5\n",
    "    bnmeani = hpreact.mean(0, keepdim=True)\n",
    "    bnstdi = hpreact.std(0, keepdim=True)\n",
    "    hpreact = bngain * (hpreact - bnmeani) / bnstdi + bnbias + epsilon\n",
    "\n",
    "    # Keep running track of bnmean and bnstd with slight update per iteration.\n",
    "    with torch.no_grad():\n",
    "        bnmean_running = 0.999 * bnmean_running + 0.001 * bnmeani\n",
    "        bnstd_running = 0.999 * bnstd_running + 0.001 * bnstdi\n",
    "\n",
    "    h = torch.tanh(hpreact) # Hidden layer\n",
    "    logits = h @ W2 + b2 # Output layer\n",
    "    loss = F.cross_entropy(logits, Yb) # Loss function\n",
    "    \n",
    "    # Backward pass\n",
    "    for p in parameters:\n",
    "        p.grad = None\n",
    "\n",
    "    loss.backward()\n",
    "\n",
    "    # Update\n",
    "    lr = 0.1 if i < 100000 else 0.01 # Step learning rate decay\n",
    "    for p in parameters:\n",
    "        p.data += -lr * p.grad\n",
    "\n",
    "    # # Metrics\n",
    "    if i % 10000 == 0:\n",
    "        print(f'{i:7d} / {epochs:7d}: {loss.item():4f}')\n",
    "\n",
    "    lossi.append(loss.log10().item())\n",
    "    "
   ]
  },
  {
   "cell_type": "code",
   "execution_count": 16,
   "metadata": {},
   "outputs": [
    {
     "name": "stdout",
     "output_type": "stream",
     "text": [
      "torch.Size([32, 200])\n"
     ]
    },
    {
     "data": {
      "text/plain": [
       "<matplotlib.image.AxesImage at 0x7f9932e3aa30>"
      ]
     },
     "execution_count": 16,
     "metadata": {},
     "output_type": "execute_result"
    },
    {
     "data": {
      "image/png": "[encoded data removed]",
      "text/plain": [
       "<Figure size 2000x1000 with 1 Axes>"
      ]
     },
     "metadata": {},
     "output_type": "display_data"
    }
   ],
   "source": [
    "# Vizualize neurons in the tanh hidden layer - 32 examples (batch size) across 200 neurons\n",
    "print(h.shape)\n",
    "plt.figure(figsize=(20, 10))\n",
    "plt.imshow(h.abs() > 0.99, cmap='gray', interpolation='nearest')"
   ]
  },
  {
   "cell_type": "code",
   "execution_count": 17,
   "metadata": {},
   "outputs": [
    {
     "data": {
      "image/png": "[encoded data removed]",
      "text/plain": [
       "<Figure size 640x480 with 1 Axes>"
      ]
     },
     "metadata": {},
     "output_type": "display_data"
    }
   ],
   "source": [
    "# Plot of hidden activations before training, tanh (-1 | 1 ) is very active\n",
    "plt.hist(h.view(-1).tolist(), 50);"
   ]
  },
  {
   "cell_type": "code",
   "execution_count": 18,
   "metadata": {},
   "outputs": [
    {
     "data": {
      "image/png": "[encoded data removed]",
      "text/plain": [
       "<Figure size 640x480 with 1 Axes>"
      ]
     },
     "metadata": {},
     "output_type": "display_data"
    }
   ],
   "source": [
    "plt.hist(hpreact.view(-1).tolist(), 50);"
   ]
  },
  {
   "cell_type": "code",
   "execution_count": 19,
   "metadata": {},
   "outputs": [
    {
     "data": {
      "text/plain": [
       "[<matplotlib.lines.Line2D at 0x7f9910b3a580>]"
      ]
     },
     "execution_count": 19,
     "metadata": {},
     "output_type": "execute_result"
    },
    {
     "data": {
      "image/png": "[encoded data removed]",
      "text/plain": [
       "<Figure size 640x480 with 1 Axes>"
      ]
     },
     "metadata": {},
     "output_type": "display_data"
    }
   ],
   "source": [
    "plt.plot(lossi) # Use lri when identifing learning rate"
   ]
  },
  {
   "cell_type": "code",
   "execution_count": 20,
   "metadata": {},
   "outputs": [],
   "source": [
    "# # Calibrate the batch norm at end of training - Resolved post training with bnmean_running & bnstd_running\n",
    "# with torch.no_grad():\n",
    "#     emb = C[Xtr] # (N, block_size, n_embd)\n",
    "#     embcat = emb.view(emb.shape[0], -1) # Concat into (N, block_size * nembd)\n",
    "#     hpreact = embcat @ W1 # + b1 = Remoove for batch norm\n",
    "#     # Measure the mean/std over the entire training set\n",
    "#     bnmean = hpreact.mean(0, keepdim=True)\n",
    "#     bnbias = hpreact.std(0, keepdim=True)"
   ]
  },
  {
   "cell_type": "code",
   "execution_count": 21,
   "metadata": {},
   "outputs": [],
   "source": [
    "@torch.no_grad() # This decorator disables gradient tracking\n",
    "def split_loss(split):\n",
    "    x, y = {\n",
    "        'train': (Xtr, Ytr),\n",
    "        'val': (Xdev, Ydev),\n",
    "        'test': (Xte, Yte)\n",
    "    }[split]\n",
    "\n",
    "    emb = C[x] # (N, block_size, n_embd)\n",
    "    embcat = emb.view(emb.shape[0], -1) # Concat into (N, block_size * nembd)\n",
    "    hpreact = embcat @ W1 # + b1\n",
    "    # hpreact = bngain * (hpreact - hpreact.mean(0, keepdim=True)) / hpreact.std(0, keepdim=True) + bnbias # BatchNorm\n",
    "    hpreact = bngain * (hpreact - bnmean_running) / bnstd_running + bnbias\n",
    "    h = torch.tanh(hpreact) # (N, n_hidden)\n",
    "    logits = h @ W2 + b2 # (N, vocab_size)\n",
    "    loss = F.cross_entropy(logits, y)\n",
    "    print(split, loss.item())\n"
   ]
  },
  {
   "cell_type": "code",
   "execution_count": 22,
   "metadata": {},
   "outputs": [
    {
     "name": "stdout",
     "output_type": "stream",
     "text": [
      "train 2.0674142837524414\n",
      "val 2.1056854724884033\n"
     ]
    }
   ],
   "source": [
    "split_loss('train')\n",
    "split_loss('val')"
   ]
  },
  {
   "cell_type": "code",
   "execution_count": 23,
   "metadata": {},
   "outputs": [
    {
     "name": "stdout",
     "output_type": "stream",
     "text": [
      "cathlifatubhl.\n",
      "shkirrsthlitslestadsh.\n",
      "jazhmirfardsahmiqueliz.\n",
      "qumaritzieiirdg.\n",
      "leggyufbmghziriqustzishlistan.\n",
      "vabiusstell.\n",
      "diarisix.\n",
      "khegzifsabbel.\n",
      "zaiirsgyasluysfaadhlanyivariksyah.\n",
      "maboubzettr.\n",
      "jesiahasdannakphladlummygotberksiaghubniq.\n",
      "qlylianaysh.\n",
      "xeinahqueld.\n",
      "bldn.\n",
      "tdy.\n",
      "madthgb.\n",
      "sphlynanyasislytte.\n",
      "conzabbuljadak.\n",
      "khlesdanikosmuseff.\n",
      "kyaq.\n"
     ]
    }
   ],
   "source": [
    "# Sample from the model\n",
    "g = torch.Generator().manual_seed(2147483647 + 10)\n",
    "\n",
    "for _ in range(20):\n",
    "    \n",
    "    out = []\n",
    "    context = [0] * block_size # Initialize with all ...\n",
    "    while True:\n",
    "      emb = C[torch.tensor([context])] # (1,block_size,d)\n",
    "      h = torch.tanh(emb.view(1, -1) @ W1)# + b1 - Remove for BatchNorm\n",
    "      logits = h @ W2 + b2\n",
    "      probs = F.softmax(logits, dim=1)\n",
    "      # Sample from the distribution\n",
    "      ix = torch.multinomial(probs, num_samples=1, generator=g).item()\n",
    "      # Shift the context window to track the samples\n",
    "      context = context[1:] + [ix]\n",
    "      out.append(ix)\n",
    "      # If we sample the special '.' token, break\n",
    "      if ix == 0:\n",
    "        break\n",
    "    \n",
    "    print(''.join(itos[i] for i in out)) # Decode and print the generated word"
   ]
  }
 ],
 "metadata": {
  "kernelspec": {
   "display_name": "Python 3.9.13 ('dev')",
   "language": "python",
   "name": "python3"
  },
  "language_info": {
   "codemirror_mode": {
    "name": "ipython",
    "version": 3
   },
   "file_extension": ".py",
   "mimetype": "text/x-python",
   "name": "python",
   "nbconvert_exporter": "python",
   "pygments_lexer": "ipython3",
   "version": "3.9.13 (main, Aug 25 2022, 18:29:29) \n[Clang 12.0.0 ]"
  },
  "orig_nbformat": 4,
  "vscode": {
   "interpreter": {
    "hash": "e22c083f026c7769b83b8857fa3ac4d22c31dd61e89868550b0afe4a500a3cf3"
   }
  }
 },
 "nbformat": 4,
 "nbformat_minor": 2
}
