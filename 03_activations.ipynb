{
 "cells": [
  {
   "cell_type": "markdown",
   "metadata": {},
   "source": [
    "\n",
    "### [A Neural Probabilistic Language Model](https://www.jmlr.org/papers/volume3/bengio03a/bengio03a.pdf) - BENGIO, DUCHARME, VINCENT AND JAUVIN (2003)\n",
    "\n",
    "---"
   ]
  },
  {
   "cell_type": "code",
   "execution_count": 1,
   "metadata": {},
   "outputs": [],
   "source": [
    "import torch\n",
    "import torch.nn.functional as F\n",
    "import random\n",
    "import matplotlib.pyplot as plt\n",
    "%matplotlib inline"
   ]
  },
  {
   "cell_type": "code",
   "execution_count": 2,
   "metadata": {},
   "outputs": [],
   "source": [
    "random.seed(42)"
   ]
  },
  {
   "cell_type": "code",
   "execution_count": 3,
   "metadata": {},
   "outputs": [
    {
     "data": {
      "text/plain": [
       "['emma', 'olivia', 'ava', 'isabella', 'sophia', 'charlotte', 'mia', 'amelia']"
      ]
     },
     "execution_count": 3,
     "metadata": {},
     "output_type": "execute_result"
    }
   ],
   "source": [
    "words = open('names.txt', 'r').read().splitlines()\n",
    "words[:8]"
   ]
  },
  {
   "cell_type": "code",
   "execution_count": 4,
   "metadata": {},
   "outputs": [
    {
     "data": {
      "text/plain": [
       "32033"
      ]
     },
     "execution_count": 4,
     "metadata": {},
     "output_type": "execute_result"
    }
   ],
   "source": [
    "len(words)"
   ]
  },
  {
   "cell_type": "code",
   "execution_count": 5,
   "metadata": {},
   "outputs": [
    {
     "name": "stdout",
     "output_type": "stream",
     "text": [
      "{1: 'a', 2: 'b', 3: 'c', 4: 'd', 5: 'e', 6: 'f', 7: 'g', 8: 'h', 9: 'i', 10: 'j', 11: 'k', 12: 'l', 13: 'm', 14: 'n', 15: 'o', 16: 'p', 17: 'q', 18: 'r', 19: 's', 20: 't', 21: 'u', 22: 'v', 23: 'w', 24: 'x', 25: 'y', 26: 'z', 0: '.'}\n",
      "27\n"
     ]
    }
   ],
   "source": [
    "# Build the vocabulary of characters and mapping to/from integers\n",
    "chars = sorted(list(set(''.join(words))))\n",
    "stoi = {s:i+1 for i, s in enumerate(chars)}\n",
    "stoi['.'] = 0\n",
    "itos = {i:s for s, i in stoi.items()}\n",
    "vocab_size = len(itos)\n",
    "print(itos)\n",
    "print(vocab_size)"
   ]
  },
  {
   "cell_type": "code",
   "execution_count": 6,
   "metadata": {},
   "outputs": [],
   "source": [
    "block_size = 3  # Context length: How many characters do we take to predict the next one."
   ]
  },
  {
   "cell_type": "code",
   "execution_count": 7,
   "metadata": {},
   "outputs": [],
   "source": [
    "def build_dataset(words):\n",
    "    X, Y = [], []\n",
    "\n",
    "    for w in words:\n",
    "        context = [0] * block_size\n",
    "        for ch in w + '.':\n",
    "            ix = stoi[ch]\n",
    "            X.append(context)\n",
    "            Y.append(ix)\n",
    "            context = context[1:] + [ix]  # Crop and append\n",
    "\n",
    "    X = torch.tensor(X)\n",
    "    Y = torch.tensor(Y)\n",
    "    print(X.shape, Y.shape)\n",
    "    return X, Y"
   ]
  },
  {
   "cell_type": "code",
   "execution_count": 8,
   "metadata": {},
   "outputs": [
    {
     "name": "stdout",
     "output_type": "stream",
     "text": [
      "torch.Size([182625, 3]) torch.Size([182625])\n",
      "torch.Size([22655, 3]) torch.Size([22655])\n",
      "torch.Size([22866, 3]) torch.Size([22866])\n"
     ]
    }
   ],
   "source": [
    "random.shuffle(words)\n",
    "\n",
    "n1 = int(0.8 * len(words))\n",
    "n2 = int(0.9 * len(words))\n",
    "\n",
    "Xtr, Ytr = build_dataset(words[:n1])\n",
    "Xdev, Ydev = build_dataset(words[n1:n2])\n",
    "Xte, Yte = build_dataset(words[n2:])"
   ]
  },
  {
   "cell_type": "code",
   "execution_count": 9,
   "metadata": {},
   "outputs": [
    {
     "data": {
      "text/plain": [
       "(tensor([2.3055, 9.3173, 8.8113, 8.7964]),\n",
       " tensor([4.1006e-04, 4.5502e-01, 2.7432e-01, 2.7026e-01]),\n",
       " tensor(1.2935))"
      ]
     },
     "execution_count": 9,
     "metadata": {},
     "output_type": "execute_result"
    }
   ],
   "source": [
    "# 4-dimensional exammple of initialization problem\n",
    "# logits = torch.tensor([0.0, 0.0, 0.0, 0.0]) # Even distribution\n",
    "# logits = torch.tensor([0.0, 0.0, 2.0, 0.0]) # Correct value\n",
    "# logits = torch.tensor([0.0, 8.0, 0.0, 0.0]) # Incorrect value\n",
    "logits = torch.rand(4) * 10 # Random distribution for each dimension\n",
    "probs = torch.softmax(logits, dim=0)\n",
    "loss = -probs[2].log()\n",
    "logits, probs, loss"
   ]
  },
  {
   "cell_type": "code",
   "execution_count": 10,
   "metadata": {},
   "outputs": [
    {
     "data": {
      "text/plain": [
       "tensor(3.2958)"
      ]
     },
     "execution_count": 10,
     "metadata": {},
     "output_type": "execute_result"
    }
   ],
   "source": [
    "# Estimate the initial loss value - Negative log of the probability distribution\n",
    "-torch.tensor(1/vocab_size).log()"
   ]
  },
  {
   "cell_type": "code",
   "execution_count": 11,
   "metadata": {},
   "outputs": [],
   "source": [
    "# Init scale for weights and biases of hidden layer. (Kaiming Normal)\n",
    "x = torch.randn(1000, 30) # 1000 examples in a 30 dimensional matrix - 30 due to each letter is 10 dimensions but we take 3 and concaternate.\n",
    "w = torch.randn(30, 200) * (5/3) / 30**0.5 # Initialized using gaussian similar to input - Normalized by the square root of fan_in (Number of input units). 5/3 = Tanh Gain\n",
    "y = x @ w # Pre-activations of neurons"
   ]
  },
  {
   "cell_type": "code",
   "execution_count": 12,
   "metadata": {},
   "outputs": [
    {
     "name": "stdout",
     "output_type": "stream",
     "text": [
      "tensor(-0.0013) tensor(0.3002)\n",
      "tensor(-0.0016) tensor(1.6389)\n"
     ]
    },
    {
     "data": {
      "text/plain": [
       "(array([2.92128899e-05, 5.84257798e-05, 1.46064449e-05, 7.30322247e-05,\n",
       "        1.60670894e-04, 2.48309564e-04, 5.55044908e-04, 9.64025366e-04,\n",
       "        1.76737984e-03, 2.54152142e-03, 4.96619128e-03, 7.79984160e-03,\n",
       "        1.26345749e-02, 2.08433969e-02, 3.30543849e-02, 4.68428689e-02,\n",
       "        6.58750667e-02, 9.06768102e-02, 1.19524539e-01, 1.48883493e-01,\n",
       "        1.82989542e-01, 2.13078819e-01, 2.34258164e-01, 2.46118597e-01,\n",
       "        2.50310647e-01, 2.36127789e-01, 2.16175385e-01, 1.91519706e-01,\n",
       "        1.57559722e-01, 1.21876177e-01, 9.83598003e-02, 7.09288967e-02,\n",
       "        5.02753835e-02, 3.56397257e-02, 2.23624672e-02, 1.41974645e-02,\n",
       "        9.23127321e-03, 4.90776550e-03, 3.27184367e-03, 1.98647651e-03,\n",
       "        1.13930271e-03, 7.74141582e-04, 2.33703119e-04, 1.75277339e-04,\n",
       "        1.89883784e-04, 4.38193348e-05, 1.46064449e-05, 1.46064449e-05,\n",
       "        0.00000000e+00, 1.46064449e-05]),\n",
       " array([-8.25371647, -7.91140182, -7.56908718, -7.22677254, -6.88445789,\n",
       "        -6.54214325, -6.19982861, -5.85751396, -5.51519932, -5.17288467,\n",
       "        -4.83057003, -4.48825539, -4.14594074, -3.8036261 , -3.46131145,\n",
       "        -3.11899681, -2.77668217, -2.43436752, -2.09205288, -1.74973824,\n",
       "        -1.40742359, -1.06510895, -0.7227943 , -0.38047966, -0.03816502,\n",
       "         0.30414963,  0.64646427,  0.98877892,  1.33109356,  1.6734082 ,\n",
       "         2.01572285,  2.35803749,  2.70035213,  3.04266678,  3.38498142,\n",
       "         3.72729607,  4.06961071,  4.41192535,  4.75424   ,  5.09655464,\n",
       "         5.43886929,  5.78118393,  6.12349857,  6.46581322,  6.80812786,\n",
       "         7.1504425 ,  7.49275715,  7.83507179,  8.17738644,  8.51970108,\n",
       "         8.86201572]),\n",
       " <BarContainer object of 50 artists>)"
      ]
     },
     "execution_count": 12,
     "metadata": {},
     "output_type": "execute_result"
    },
    {
     "data": {
      "image/png": "[encoded data removed]",
      "text/plain": [
       "<Figure size 2000x500 with 2 Axes>"
      ]
     },
     "metadata": {},
     "output_type": "display_data"
    }
   ],
   "source": [
    "print(x.mean(), w.std())\n",
    "print(y.mean(), y.std())\n",
    "plt.figure(figsize=(20, 5))\n",
    "plt.subplot(121)\n",
    "plt.hist(x.view(-1).tolist(), 50, density=True)\n",
    "plt.subplot(122)\n",
    "plt.hist(y.view(-1).tolist(), 50, density=True)"
   ]
  },
  {
   "cell_type": "code",
   "execution_count": 13,
   "metadata": {},
   "outputs": [
    {
     "data": {
      "text/plain": [
       "0.3042903097250923"
      ]
     },
     "execution_count": 13,
     "metadata": {},
     "output_type": "execute_result"
    }
   ],
   "source": [
    "# Kaiming Normal\n",
    "(torch.randn(1000)).std() # Spread of the Gaussion of zero mean unit standard deviation\n",
    "gain = 5 / 3 # Gain required for tanh function\n",
    "gain / (30**0.5)"
   ]
  },
  {
   "cell_type": "code",
   "execution_count": 14,
   "metadata": {},
   "outputs": [
    {
     "name": "stdout",
     "output_type": "stream",
     "text": [
      "12097\n"
     ]
    }
   ],
   "source": [
    "# Initialize model\n",
    "\n",
    "n_embd = 10         # The dimensionality of the character embedding vectors\n",
    "n_hidden = 200      # The number of neurons in the hidden layer of the MLP\n",
    "\n",
    "g = torch.Generator().manual_seed(2147483642)\n",
    "C = torch.randn((vocab_size, n_embd), generator=g)\n",
    "\n",
    "# Model\n",
    "g = torch.Generator().manual_seed(2147483647)\n",
    "C = torch.randn((vocab_size, n_embd),             generator=g)\n",
    "W1 = torch.randn((n_embd * block_size, n_hidden), generator=g) * (5/3) / ((n_embd * block_size)**0.5) # Init scale using Kaiming initialization\n",
    "# b1 = torch.randn(n_hidden,                        generator=g) * 0.01 # Disable when using BatchNorm with bnbias\n",
    "W2 = torch.randn((n_hidden, vocab_size),          generator=g) * 0.01\n",
    "b2 = torch.randn(vocab_size,                      generator=g) * 0\n",
    "\n",
    "bngain = torch.ones((1, n_hidden))\n",
    "bnbias = torch.zeros((1, n_hidden))\n",
    "\n",
    "# As weights are gaussain at initialization mean will be roughly 0 and std will be 1\n",
    "bnmean_running = torch.zeros((1, n_hidden))\n",
    "bnstd_running = torch.ones((1, n_hidden))\n",
    "\n",
    "parameters = [C, W1, W2, b2, bngain, bnbias] # b1, removed for BatchNorm\n",
    "print(sum(p.nelement() for p in parameters)) # Total number of parameters\n",
    "\n",
    "for p in parameters:\n",
    "    p.requires_grad = True"
   ]
  },
  {
   "cell_type": "code",
   "execution_count": 15,
   "metadata": {},
   "outputs": [
    {
     "name": "stdout",
     "output_type": "stream",
     "text": [
      "      0 /  200000: 3.323862\n",
      "  10000 /  200000: 2.032164\n",
      "  20000 /  200000: 2.567552\n",
      "  30000 /  200000: 2.012547\n",
      "  40000 /  200000: 2.244635\n",
      "  50000 /  200000: 1.889774\n",
      "  60000 /  200000: 2.078532\n",
      "  70000 /  200000: 2.368121\n",
      "  80000 /  200000: 2.291861\n",
      "  90000 /  200000: 2.023838\n",
      " 100000 /  200000: 2.367269\n",
      " 110000 /  200000: 2.313224\n",
      " 120000 /  200000: 1.641326\n",
      " 130000 /  200000: 1.931055\n",
      " 140000 /  200000: 2.223103\n",
      " 150000 /  200000: 2.002742\n",
      " 160000 /  200000: 2.099662\n",
      " 170000 /  200000: 2.494863\n",
      " 180000 /  200000: 2.019904\n",
      " 190000 /  200000: 2.170781\n"
     ]
    }
   ],
   "source": [
    "epochs = 200000\n",
    "batch_size = 32\n",
    "lossi = []\n",
    "\n",
    "for i in range(epochs):\n",
    "\n",
    "    # Minibatch\n",
    "    ix = torch.randint(0, Xtr.shape[0], (batch_size,), generator=g)\n",
    "    Xb, Yb = Xtr[ix], Ytr[ix] # Batch X, Y\n",
    "\n",
    "    # Forward pass\n",
    "    emb = C[Xb] # Embed the characters into vectors\n",
    "    embcat = emb.view(emb.shape[0], -1) # Concatenate the vectos\n",
    "    hpreact = embcat @ W1 # + b1 # Hidden layer pre-activation - Remove bias as bnbias in BatchNorm overrides this.\n",
    "\n",
    "    # BatchNormalization\n",
    "    epsilon = 1e-5\n",
    "    bnmeani = hpreact.mean(0, keepdim=True)\n",
    "    bnstdi = hpreact.std(0, keepdim=True)\n",
    "    hpreact = bngain * (hpreact - bnmeani) / bnstdi + bnbias + epsilon\n",
    "\n",
    "    # Keep running track of bnmean and bnstd with slight update per iteration.\n",
    "    with torch.no_grad():\n",
    "        bnmean_running = 0.999 * bnmean_running + 0.001 * bnmeani\n",
    "        bnstd_running = 0.999 * bnstd_running + 0.001 * bnstdi\n",
    "\n",
    "    h = torch.tanh(hpreact) # Hidden layer\n",
    "    logits = h @ W2 + b2 # Output layer\n",
    "    loss = F.cross_entropy(logits, Ytr[ix]) # Loss function\n",
    "    \n",
    "    # Backward pass\n",
    "    for p in parameters:\n",
    "        p.grad = None\n",
    "    loss.backward()\n",
    "\n",
    "    # Update\n",
    "    lr = 0.1 if i < 100000 else 0.01 # Step learning rate decay\n",
    "    for p in parameters:\n",
    "        p.data += -lr * p.grad\n",
    "\n",
    "    # # Metrics\n",
    "    if i % 10000 == 0:\n",
    "        print(f'{i:7d} / {epochs:7d}: {loss.item():4f}')\n",
    "\n",
    "    lossi.append(loss.log10().item())\n",
    "    "
   ]
  },
  {
   "cell_type": "code",
   "execution_count": 16,
   "metadata": {},
   "outputs": [
    {
     "name": "stdout",
     "output_type": "stream",
     "text": [
      "torch.Size([32, 200])\n"
     ]
    },
    {
     "data": {
      "text/plain": [
       "<matplotlib.image.AxesImage at 0x7f94e0c830a0>"
      ]
     },
     "execution_count": 16,
     "metadata": {},
     "output_type": "execute_result"
    },
    {
     "data": {
      "image/png": "[encoded data removed]",
      "text/plain": [
       "<Figure size 2000x1000 with 1 Axes>"
      ]
     },
     "metadata": {},
     "output_type": "display_data"
    }
   ],
   "source": [
    "# Vizualize neurons in the tanh hidden layer - 32 examples (batch size) across 200 neurons\n",
    "print(h.shape)\n",
    "plt.figure(figsize=(20, 10))\n",
    "plt.imshow(h.abs() > 0.99, cmap='gray', interpolation='nearest')"
   ]
  },
  {
   "cell_type": "code",
   "execution_count": 17,
   "metadata": {},
   "outputs": [
    {
     "data": {
      "image/png": "[encoded data removed]",
      "text/plain": [
       "<Figure size 640x480 with 1 Axes>"
      ]
     },
     "metadata": {},
     "output_type": "display_data"
    }
   ],
   "source": [
    "# Plot of hidden activations before training, tanh (-1 | 1 ) is very active\n",
    "plt.hist(h.view(-1).tolist(), 50);"
   ]
  },
  {
   "cell_type": "code",
   "execution_count": 18,
   "metadata": {},
   "outputs": [
    {
     "data": {
      "image/png": "[encoded data removed]",
      "text/plain": [
       "<Figure size 640x480 with 1 Axes>"
      ]
     },
     "metadata": {},
     "output_type": "display_data"
    }
   ],
   "source": [
    "plt.hist(hpreact.view(-1).tolist(), 50);"
   ]
  },
  {
   "cell_type": "code",
   "execution_count": 19,
   "metadata": {},
   "outputs": [
    {
     "data": {
      "text/plain": [
       "[<matplotlib.lines.Line2D at 0x7f95025dfa60>]"
      ]
     },
     "execution_count": 19,
     "metadata": {},
     "output_type": "execute_result"
    },
    {
     "data": {
      "image/png": "[encoded data removed]",
      "text/plain": [
       "<Figure size 640x480 with 1 Axes>"
      ]
     },
     "metadata": {},
     "output_type": "display_data"
    }
   ],
   "source": [
    "plt.plot(lossi) # Use lri when identifing learning rate"
   ]
  },
  {
   "cell_type": "code",
   "execution_count": 20,
   "metadata": {},
   "outputs": [],
   "source": [
    "# # Calibrate the batch norm at end of training - Resolved post training with bnmean_running & bnstd_running\n",
    "# with torch.no_grad():\n",
    "#     emb = C[Xtr] # (N, block_size, n_embd)\n",
    "#     embcat = emb.view(emb.shape[0], -1) # Concat into (N, block_size * nembd)\n",
    "#     hpreact = embcat @ W1 # + b1 = Remoove for batch norm\n",
    "#     # Measure the mean/std over the entire training set\n",
    "#     bnmean = hpreact.mean(0, keepdim=True)\n",
    "#     bnbias = hpreact.std(0, keepdim=True)"
   ]
  },
  {
   "cell_type": "code",
   "execution_count": 21,
   "metadata": {},
   "outputs": [],
   "source": [
    "@torch.no_grad() # This decorator disables gradient tracking\n",
    "def split_loss(split):\n",
    "    x, y = {\n",
    "        'train': (Xtr, Ytr),\n",
    "        'val': (Xdev, Ydev),\n",
    "        'test': (Xte, Yte)\n",
    "    }[split]\n",
    "\n",
    "    emb = C[x] # (N, block_size, n_embd)\n",
    "    embcat = emb.view(emb.shape[0], -1) # Concat into (N, block_size * nembd)\n",
    "    hpreact = embcat @ W1 # + b1\n",
    "    # hpreact = bngain * (hpreact - hpreact.mean(0, keepdim=True)) / hpreact.std(0, keepdim=True) + bnbias # BatchNorm\n",
    "    hpreact = bngain * (hpreact - bnmean_running) / bnstd_running + bnbias\n",
    "    h = torch.tanh(hpreact) # (N, n_hidden)\n",
    "    logits = h @ W2 + b2 # (N, vocab_size)\n",
    "    loss = F.cross_entropy(logits, y)\n",
    "    print(split, loss.item())\n"
   ]
  },
  {
   "cell_type": "code",
   "execution_count": 22,
   "metadata": {},
   "outputs": [
    {
     "name": "stdout",
     "output_type": "stream",
     "text": [
      "train 2.0674142837524414\n",
      "val 2.1056854724884033\n"
     ]
    }
   ],
   "source": [
    "split_loss('train')\n",
    "split_loss('val')"
   ]
  },
  {
   "cell_type": "code",
   "execution_count": 23,
   "metadata": {},
   "outputs": [
    {
     "name": "stdout",
     "output_type": "stream",
     "text": [
      "cathlifatubhl.\n",
      "shkirrsthlitslestadsh.\n",
      "jazhmirfardsahmiqueliz.\n",
      "qumaritzieiirdg.\n",
      "leggyufbmghziriqustzishlistan.\n",
      "vabiusstell.\n",
      "diarisix.\n",
      "khegzifsabbel.\n",
      "zaiirsgyasluysfaadhlanyivariksyah.\n",
      "maboubzettr.\n",
      "jesiahasdannakphladlummygotberksiaghubniq.\n",
      "qlylianaysh.\n",
      "xeinahqueld.\n",
      "bldn.\n",
      "tdy.\n",
      "madthgb.\n",
      "sphlynanyasislytte.\n",
      "conzabbuljadak.\n",
      "khlesdanikosmuseff.\n",
      "kyaq.\n"
     ]
    }
   ],
   "source": [
    "# Sample from the model\n",
    "g = torch.Generator().manual_seed(2147483647 + 10)\n",
    "\n",
    "for _ in range(20):\n",
    "    \n",
    "    out = []\n",
    "    context = [0] * block_size # Initialize with all ...\n",
    "    while True:\n",
    "      emb = C[torch.tensor([context])] # (1,block_size,d)\n",
    "      h = torch.tanh(emb.view(1, -1) @ W1)# + b1\n",
    "      logits = h @ W2 + b2\n",
    "      probs = F.softmax(logits, dim=1)\n",
    "      # Sample from the distribution\n",
    "      ix = torch.multinomial(probs, num_samples=1, generator=g).item()\n",
    "      # Shift the context window to track the samples\n",
    "      context = context[1:] + [ix]\n",
    "      out.append(ix)\n",
    "      # If we sample the special '.' token, break\n",
    "      if ix == 0:\n",
    "        break\n",
    "    \n",
    "    print(''.join(itos[i] for i in out)) # Decode and print the generated word"
   ]
  }
 ],
 "metadata": {
  "kernelspec": {
   "display_name": "Python 3.9.13 ('dev')",
   "language": "python",
   "name": "python3"
  },
  "language_info": {
   "codemirror_mode": {
    "name": "ipython",
    "version": 3
   },
   "file_extension": ".py",
   "mimetype": "text/x-python",
   "name": "python",
   "nbconvert_exporter": "python",
   "pygments_lexer": "ipython3",
   "version": "3.9.13"
  },
  "orig_nbformat": 4,
  "vscode": {
   "interpreter": {
    "hash": "e22c083f026c7769b83b8857fa3ac4d22c31dd61e89868550b0afe4a500a3cf3"
   }
  }
 },
 "nbformat": 4,
 "nbformat_minor": 2
}
